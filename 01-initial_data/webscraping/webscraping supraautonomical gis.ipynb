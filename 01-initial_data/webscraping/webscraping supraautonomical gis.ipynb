{
 "cells": [
  {
   "cell_type": "code",
   "execution_count": 1,
   "id": "e14cfba9",
   "metadata": {},
   "outputs": [],
   "source": [
    "from bs4 import BeautifulSoup\n",
    "import requests\n",
    "import pandas as pd\n",
    "import numpy as np\n",
    "import re\n",
    "from time import sleep\n",
    "from lxml import etree\n",
    "\n",
    "pd.set_option('display.max_columns', None)"
   ]
  },
  {
   "cell_type": "markdown",
   "id": "ccb58ed5",
   "metadata": {},
   "source": [
    "# Rioja"
   ]
  },
  {
   "cell_type": "code",
   "execution_count": 2,
   "id": "8f9d3b03",
   "metadata": {},
   "outputs": [],
   "source": [
    "request = requests.get(\"https://www.rutadelvinoderiojaalavesa.com/es/bodegas\")\n",
    "soup = BeautifulSoup(request.content, 'html.parser')"
   ]
  },
  {
   "cell_type": "code",
   "execution_count": 3,
   "id": "1fb7f182",
   "metadata": {},
   "outputs": [
    {
     "data": {
      "text/plain": [
       "['Bodegas en Baños de Ebro / Mañueta',\n",
       " 'Amador García',\n",
       " 'Dominio de Berzal',\n",
       " 'Bodegas en Elciego',\n",
       " 'Luberri Monje Amestoy',\n",
       " 'Murua',\n",
       " 'Pago de Larrea',\n",
       " 'Valdelana',\n",
       " 'Viña Salceda',\n",
       " 'Bodega Marqués de Riscal',\n",
       " 'Bodegas en Elvillar / Bilar',\n",
       " 'Altos de Rioja',\n",
       " 'Lar de Paula',\n",
       " 'Bodega San Roque S.COOP.',\n",
       " 'Bodegas en Labastida / Bastida',\n",
       " 'González Teso',\n",
       " 'Mitarte',\n",
       " 'Bodegas y Viñedos Labastida Solagüen',\n",
       " 'Tierra',\n",
       " 'Bodegas en Laguardia ',\n",
       " 'Bodegas Las Orcas',\n",
       " 'Campillo',\n",
       " 'Casa Primicia',\n",
       " 'Carlos San Pedro Pérez de Viñaspre',\n",
       " 'El Fabulista',\n",
       " 'Gómez de Segura',\n",
       " 'Javier San Pedro Ortega',\n",
       " 'Viña Lamioga',\n",
       " 'Mayor de Migueloa',\n",
       " 'Cosme Palacio',\n",
       " 'Ruiz de Viñaspre ',\n",
       " 'Solar de Samaniego',\n",
       " 'Orube de Solar Viejo',\n",
       " 'Vallobera',\n",
       " 'Viña Real',\n",
       " 'Ysios',\n",
       " 'Bodegas en Lanciego / Lantziego',\n",
       " 'De Luis R.',\n",
       " 'Bodegas en Lapuebla de Labarca',\n",
       " 'Bodegas y Viñedos Casado Morales',\n",
       " 'Covila',\n",
       " 'Estraunza',\n",
       " 'Loli Casado',\n",
       " 'Muro',\n",
       " 'Bodegas en Leza',\n",
       " 'Lozano',\n",
       " 'Bodegas en Oyón-Oion',\n",
       " 'Faustino',\n",
       " 'Ondalán',\n",
       " 'Valdemar',\n",
       " 'Bodegas en Páganos',\n",
       " 'Eguren Ugarte',\n",
       " 'García de Olano',\n",
       " 'Torre de Oña',\n",
       " 'Bodegas en Samaniego',\n",
       " 'Amaren',\n",
       " 'Baigorri',\n",
       " 'Bello Berganzo',\n",
       " 'Bodegas Heredad de Aduna',\n",
       " 'Ostatu',\n",
       " 'Pascual Berganzo-Alútiz Vinos',\n",
       " 'Pascual Larrieta',\n",
       " 'Remírez de Ganuza',\n",
       " 'Bodegas en Villabuena de Álava / Eskuernaga',\n",
       " 'Bideona',\n",
       " 'Hnos. Frías del Val',\n",
       " 'Izadi',\n",
       " 'Juan José García Berrueco',\n",
       " 'Luis Cañas',\n",
       " 'Viñedos y Bodegas de la Marquesa Valserrano']"
      ]
     },
     "execution_count": 3,
     "metadata": {},
     "output_type": "execute_result"
    }
   ],
   "source": [
    "rioja_alavesa_wineries = []\n",
    "for i in soup.find_all(\"h4\"):\n",
    "    rioja_alavesa_wineries.append(i.get_text())\n",
    "rioja_alavesa_wineries"
   ]
  },
  {
   "cell_type": "code",
   "execution_count": 4,
   "id": "975a55c5",
   "metadata": {},
   "outputs": [
    {
     "data": {
      "text/plain": [
       "['Amador García',\n",
       " 'Dominio de Berzal',\n",
       " 'Luberri Monje Amestoy',\n",
       " 'Murua',\n",
       " 'Pago de Larrea',\n",
       " 'Valdelana',\n",
       " 'Viña Salceda',\n",
       " 'Bodega Marqués de Riscal',\n",
       " 'Altos de Rioja',\n",
       " 'Lar de Paula',\n",
       " 'Bodega San Roque S.COOP.',\n",
       " 'González Teso',\n",
       " 'Mitarte',\n",
       " 'Bodegas y Viñedos Labastida Solagüen',\n",
       " 'Tierra',\n",
       " 'Bodegas Las Orcas',\n",
       " 'Campillo',\n",
       " 'Casa Primicia',\n",
       " 'Carlos San Pedro Pérez de Viñaspre',\n",
       " 'El Fabulista',\n",
       " 'Gómez de Segura',\n",
       " 'Javier San Pedro Ortega',\n",
       " 'Viña Lamioga',\n",
       " 'Mayor de Migueloa',\n",
       " 'Cosme Palacio',\n",
       " 'Ruiz de Viñaspre ',\n",
       " 'Solar de Samaniego',\n",
       " 'Orube de Solar Viejo',\n",
       " 'Vallobera',\n",
       " 'Viña Real',\n",
       " 'Ysios',\n",
       " 'De Luis R.',\n",
       " 'Bodegas y Viñedos Casado Morales',\n",
       " 'Covila',\n",
       " 'Estraunza',\n",
       " 'Loli Casado',\n",
       " 'Muro',\n",
       " 'Lozano',\n",
       " 'Faustino',\n",
       " 'Ondalán',\n",
       " 'Valdemar',\n",
       " 'Eguren Ugarte',\n",
       " 'García de Olano',\n",
       " 'Torre de Oña',\n",
       " 'Amaren',\n",
       " 'Baigorri',\n",
       " 'Bello Berganzo',\n",
       " 'Bodegas Heredad de Aduna',\n",
       " 'Ostatu',\n",
       " 'Pascual Berganzo-Alútiz Vinos',\n",
       " 'Pascual Larrieta',\n",
       " 'Remírez de Ganuza',\n",
       " 'Bideona',\n",
       " 'Hnos. Frías del Val',\n",
       " 'Izadi',\n",
       " 'Juan José García Berrueco',\n",
       " 'Luis Cañas',\n",
       " 'Viñedos y Bodegas de la Marquesa Valserrano']"
      ]
     },
     "execution_count": 4,
     "metadata": {},
     "output_type": "execute_result"
    }
   ],
   "source": [
    "rioja_alavesa_wineries = [x for x in rioja_alavesa_wineries if not x.startswith(\"Bodegas en\")]\n",
    "rioja_alavesa_wineries"
   ]
  },
  {
   "cell_type": "code",
   "execution_count": 12,
   "id": "1ed3dbea",
   "metadata": {},
   "outputs": [
    {
     "data": {
      "text/html": [
       "<div>\n",
       "<style scoped>\n",
       "    .dataframe tbody tr th:only-of-type {\n",
       "        vertical-align: middle;\n",
       "    }\n",
       "\n",
       "    .dataframe tbody tr th {\n",
       "        vertical-align: top;\n",
       "    }\n",
       "\n",
       "    .dataframe thead th {\n",
       "        text-align: right;\n",
       "    }\n",
       "</style>\n",
       "<table border=\"1\" class=\"dataframe\">\n",
       "  <thead>\n",
       "    <tr style=\"text-align: right;\">\n",
       "      <th></th>\n",
       "      <th>rioja_alavesa</th>\n",
       "    </tr>\n",
       "  </thead>\n",
       "  <tbody>\n",
       "    <tr>\n",
       "      <th>0</th>\n",
       "      <td>Amador García</td>\n",
       "    </tr>\n",
       "    <tr>\n",
       "      <th>1</th>\n",
       "      <td>Dominio de Berzal</td>\n",
       "    </tr>\n",
       "    <tr>\n",
       "      <th>2</th>\n",
       "      <td>Luberri Monje Amestoy</td>\n",
       "    </tr>\n",
       "    <tr>\n",
       "      <th>3</th>\n",
       "      <td>Murua</td>\n",
       "    </tr>\n",
       "    <tr>\n",
       "      <th>4</th>\n",
       "      <td>Pago de Larrea</td>\n",
       "    </tr>\n",
       "  </tbody>\n",
       "</table>\n",
       "</div>"
      ],
      "text/plain": [
       "           rioja_alavesa\n",
       "0          Amador García\n",
       "1      Dominio de Berzal\n",
       "2  Luberri Monje Amestoy\n",
       "3                  Murua\n",
       "4         Pago de Larrea"
      ]
     },
     "execution_count": 12,
     "metadata": {},
     "output_type": "execute_result"
    }
   ],
   "source": [
    "df = pd.DataFrame({\"rioja_alavesa\": rioja_alavesa_wineries})\n",
    "df.head()"
   ]
  },
  {
   "cell_type": "markdown",
   "id": "4e50419e",
   "metadata": {},
   "source": [
    "# Cava\n",
    "### Comtats de Barcelona"
   ]
  },
  {
   "cell_type": "code",
   "execution_count": 20,
   "id": "dcf7847e",
   "metadata": {},
   "outputs": [],
   "source": [
    "request = requests.get(\"https://www.cava.wine/es/bodegas/?search=&categoria=Categor%C3%ADa&zona=B\")\n",
    "soup = BeautifulSoup(request.content, 'html.parser')"
   ]
  },
  {
   "cell_type": "code",
   "execution_count": 27,
   "id": "d8e45d39",
   "metadata": {
    "scrolled": true
   },
   "outputs": [
    {
     "data": {
      "text/plain": [
       "['ADERNATS - Vinícola de Nulles',\n",
       " 'AGRÍCOLA I SECCIÓ DE CRÈDIT DE LLORENÇ DEL PENEDÈS,SCCL',\n",
       " 'AGUSTÍ TORELLÓ MATA',\n",
       " 'ALTA ALELLA',\n",
       " 'ARTCAVA',\n",
       " 'AVINYÓ',\n",
       " 'Batllori',\n",
       " 'BERTHA',\n",
       " 'BLANCHER CAPDEVILA PUJOL S.A',\n",
       " 'BODEGA SANSTRAVÉ',\n",
       " \"Bodegues Ca n'Estella S.L.\",\n",
       " 'Bodegues Sumarroca',\n",
       " 'BOLET ORGANIC WINES & CAVAS',\n",
       " 'Buti Masana',\n",
       " 'CANALS CASANOVAS',\n",
       " 'CANALS & DOMINGO, S.L.',\n",
       " 'Canals & Munne SL.',\n",
       " 'CANALS NADAL',\n",
       " 'CAN SALA',\n",
       " 'Carol Vallès',\n",
       " 'Casa Berger',\n",
       " 'CASA RAVELLA',\n",
       " 'Castellblanc',\n",
       " \"CASTELL D'AGE\",\n",
       " 'CASTELL SANT ANTONI',\n",
       " 'CASTELO DE PEDREGOSA',\n",
       " 'Cava Almirall',\n",
       " 'CAVA BERDIÉ',\n",
       " 'CAVA EL MAS FERRER',\n",
       " 'CAVA ESMEL',\n",
       " 'Cava Guilera',\n",
       " 'CAVA & HOTEL MASTINELL',\n",
       " 'CAVA JOSEP M. FERRET GUASCH',\n",
       " 'Cava Magrinyà Calaf',\n",
       " 'Cava Mestres',\n",
       " 'Cava Miquel Pons',\n",
       " 'CAVAS CASTILLO DE PERELADA',\n",
       " 'Cavas Hill',\n",
       " 'Cava Torreblanca Grimau',\n",
       " 'CAVA VARIAS',\n",
       " 'Caves Bohigas',\n",
       " 'CAVES FÈLIX MASSANA RÀFOLS',\n",
       " 'CAVES NAVERAN',\n",
       " 'Caves Planas Albareda',\n",
       " 'Caves Romagosa Torné',\n",
       " 'Caves Soler Jové',\n",
       " 'CAVES VENTURA SOLER',\n",
       " 'CAVES VILARNAU',\n",
       " 'Celler Carles Andreu',\n",
       " \"Celler Cooperatiu d'Artés (ARTIUM)\",\n",
       " 'Celler Eudald Massana Noya',\n",
       " 'CELLER JORDI LLUCH - VINYA ESCUDÉ',\n",
       " 'CELLER PARATÓ',\n",
       " 'CELLERS ALSINA SL         ALSINA & SARDÀ',\n",
       " 'CELLERS DE CAN SURIOL DEL CASTELL, SL',\n",
       " 'Celler Vell Cava',\n",
       " 'Codorníu',\n",
       " 'CONDE DE VALICOURT',\n",
       " 'COVIDES SCCL',\n",
       " 'Cuscó Berga',\n",
       " 'Domenio Wines by Cellers Domenys',\n",
       " 'DOMINGO JOVÉ MARTÍ',\n",
       " 'EL XAMFRÀ',\n",
       " 'Escola Agrària de Viticultura i Enologia Mercè Rossell i Domènech',\n",
       " 'Ferré i Catasús S.L.',\n",
       " 'FINCA VALLDOSERA, S.A.',\n",
       " 'Fonpinet',\n",
       " 'FREIXA RIGAU, S.A.',\n",
       " 'Freixenet',\n",
       " 'GATELL WINES',\n",
       " 'GIBERT',\n",
       " 'Giró del Gorner',\n",
       " 'Giró Ribot',\n",
       " 'JANÉ SANTACANA, S.L.',\n",
       " 'JANE VENTURA',\n",
       " 'JAUME GIRÓ I GIRÓ',\n",
       " 'Joan Sardà',\n",
       " 'Josep Masachs',\n",
       " 'JUVÉ & CAMPS',\n",
       " 'LACRIMA BACCUS',\n",
       " \"LLAGRIMA D'OR SLU\",\n",
       " 'LUDENS S.A',\n",
       " 'MARIA CASANOVAS',\n",
       " 'Maria Oliver Portí',\n",
       " 'Maria Rigol Ordi',\n",
       " 'MARQUES DE LA CONCORDIA FAMILY OF WINES',\n",
       " 'MARTÍ GRAU VITICULTORS',\n",
       " 'MASCARO',\n",
       " 'MAS CODINA',\n",
       " 'Mas de la Basserola',\n",
       " 'Maset',\n",
       " 'Masia Pere Rius',\n",
       " 'MASOLIVE S.A.',\n",
       " 'MATA I COLOMA SL',\n",
       " 'MOLÍ PARELLADA',\n",
       " 'Monastell',\n",
       " 'Montau de Sadurní',\n",
       " 'MONTESQUIUS',\n",
       " 'MONT MARÇAL VINICOLA S.A.',\n",
       " 'Muscàndia',\n",
       " 'OLIVER VITICULTORS',\n",
       " 'Oriol Rossell',\n",
       " 'PAGÈS ENTRENA',\n",
       " 'Parés Baltà',\n",
       " 'Parxet',\n",
       " 'PERE VENTURA',\n",
       " 'Ramon Canals Canals S.A.',\n",
       " 'RAVENTÓS ROSELL, S.L.',\n",
       " 'RIMARTS CAVA',\n",
       " 'ROGER GOULART, S.A.U',\n",
       " 'ROSELL & FORMOSA',\n",
       " 'ROSMAS',\n",
       " 'ROURA',\n",
       " 'Rovellats Cava',\n",
       " 'Segura Viudas',\n",
       " 'Solà Raventós',\n",
       " 'Torné & Bel',\n",
       " 'Torres Prunera',\n",
       " 'U MES U',\n",
       " 'VALLFORMOSA',\n",
       " 'Vila Morgades',\n",
       " 'VINS EL CEP',\n",
       " 'Vins i Caves Joan Segura Pujadas',\n",
       " 'VINS I CAVES PERE OLIVELLA GALIMANY',\n",
       " 'VINS I CAVES PORTELL',\n",
       " 'VIVES AMBRÒS']"
      ]
     },
     "execution_count": 27,
     "metadata": {},
     "output_type": "execute_result"
    }
   ],
   "source": [
    "cava_cataluña = []\n",
    "\n",
    "for page in list(range(1,8)):\n",
    "    request = requests.get(f\"https://www.cava.wine/es/bodegas/?page={page}&search=&categoria=Categor%C3%ADa&zona=B\")\n",
    "    soup = BeautifulSoup(request.content, 'html.parser')\n",
    "    for a in soup.find_all(\"a\", attrs={\"class\": \"has-text-black\"}):\n",
    "        if a is not None and a.get_text().startswith(\"\\n\"):\n",
    "            cava_cataluña.append(a.get_text().strip())\n",
    "    wait_time = np.random.randint(2,5)\n",
    "    sleep(wait_time)\n",
    "            \n",
    "cava_cataluña"
   ]
  },
  {
   "cell_type": "code",
   "execution_count": 28,
   "id": "9ae0d109",
   "metadata": {},
   "outputs": [
    {
     "data": {
      "text/plain": [
       "126"
      ]
     },
     "execution_count": 28,
     "metadata": {},
     "output_type": "execute_result"
    }
   ],
   "source": [
    "len(cava_cataluña)"
   ]
  },
  {
   "cell_type": "code",
   "execution_count": 29,
   "id": "688d72f0",
   "metadata": {},
   "outputs": [],
   "source": [
    "new_df = pd.DataFrame({\"cava_cataluña\": cava_cataluña})\n",
    "df = pd.concat([df, new_df], axis=1) "
   ]
  },
  {
   "cell_type": "markdown",
   "id": "7429b0c7",
   "metadata": {},
   "source": [
    "## Viñedos de Almendralejo"
   ]
  },
  {
   "cell_type": "code",
   "execution_count": 30,
   "id": "274aa51a",
   "metadata": {},
   "outputs": [
    {
     "data": {
      "text/plain": [
       "['Bodegas Dehesa de Arriba (Grupo Martínez Paiva)',\n",
       " 'BODEGAS MARCELINO DIAZ S.A.',\n",
       " 'Bodegas Romale',\n",
       " 'López Morenas S.L.',\n",
       " 'VIA DE LA PLATA, S. L.']"
      ]
     },
     "execution_count": 30,
     "metadata": {},
     "output_type": "execute_result"
    }
   ],
   "source": [
    "cava_extremadura = []\n",
    "\n",
    "request = requests.get(\"https://www.cava.wine/es/bodegas/?search=&categoria=Categor%C3%ADa&zona=A\")\n",
    "soup = BeautifulSoup(request.content, 'html.parser')\n",
    "for a in soup.find_all(\"a\", attrs={\"class\": \"has-text-black\"}):\n",
    "    if a is not None and a.get_text().startswith(\"\\n\"):\n",
    "        cava_extremadura.append(a.get_text().strip())\n",
    "\n",
    "cava_extremadura"
   ]
  },
  {
   "cell_type": "code",
   "execution_count": 31,
   "id": "2a37746c",
   "metadata": {},
   "outputs": [],
   "source": [
    "new_df = pd.DataFrame({\"cava_extremadura\": cava_extremadura})\n",
    "df = pd.concat([df, new_df], axis=1) "
   ]
  },
  {
   "cell_type": "markdown",
   "id": "b188b999",
   "metadata": {},
   "source": [
    "## Altos de Levante"
   ]
  },
  {
   "cell_type": "code",
   "execution_count": 33,
   "id": "dacd172d",
   "metadata": {},
   "outputs": [
    {
     "data": {
      "text/plain": [
       "['BODEGAS HISPANOSUIZAS S.L.',\n",
       " 'Chozas Carrascal',\n",
       " 'DOMINIO DE LA VEGA',\n",
       " 'MONTESANCO',\n",
       " 'PAGO DE THARSYS',\n",
       " 'Unión Vinícola del Este']"
      ]
     },
     "execution_count": 33,
     "metadata": {},
     "output_type": "execute_result"
    }
   ],
   "source": [
    "cava_valencia = []\n",
    "\n",
    "request = requests.get(\"https://www.cava.wine/es/bodegas/?search=&categoria=Categor%C3%ADa&zona=L\")\n",
    "soup = BeautifulSoup(request.content, 'html.parser')\n",
    "for a in soup.find_all(\"a\", attrs={\"class\": \"has-text-black\"}):\n",
    "    if a is not None and a.get_text().startswith(\"\\n\"):\n",
    "        cava_valencia.append(a.get_text().strip())\n",
    "\n",
    "cava_valencia"
   ]
  },
  {
   "cell_type": "code",
   "execution_count": 34,
   "id": "8e3f8b85",
   "metadata": {},
   "outputs": [],
   "source": [
    "new_df = pd.DataFrame({\"cava_valencia\": cava_valencia})\n",
    "df = pd.concat([df, new_df], axis=1) "
   ]
  },
  {
   "cell_type": "markdown",
   "id": "022f6762",
   "metadata": {},
   "source": [
    "# Jumilla\n",
    "## Murcia"
   ]
  },
  {
   "cell_type": "code",
   "execution_count": 5,
   "id": "1e54fe63",
   "metadata": {},
   "outputs": [],
   "source": [
    "request = requests.get(\"https://jumilla.wine/nuestras-bodegas/\")\n",
    "soup = BeautifulSoup(request.content, 'html.parser')"
   ]
  },
  {
   "cell_type": "code",
   "execution_count": 6,
   "id": "c1b3d9d8",
   "metadata": {},
   "outputs": [
    {
     "data": {
      "text/plain": [
       "['Bodega Antonio García Molina',\n",
       " 'Bodega Cerrón',\n",
       " 'Bodega El Lagar de las Puntillas',\n",
       " 'Bodega Madrid Romero',\n",
       " 'Bodega Sierra Norte',\n",
       " 'Bodegas 1890',\n",
       " 'Bodegas Alceño',\n",
       " 'Bodegas Arloren',\n",
       " 'Bodegas Asensio Carcelén',\n",
       " 'Bodegas Bleda',\n",
       " 'Bodegas BSI',\n",
       " 'Bodegas Carchelo',\n",
       " 'Bodegas Casa Castillo',\n",
       " 'Bodegas Delampa',\n",
       " 'Bodegas El Nido',\n",
       " 'Bodegas Juan Gil',\n",
       " 'Bodegas Lo Nuevo',\n",
       " 'Bodegas Luzón',\n",
       " 'Bodegas Nido del Cuco',\n",
       " 'Bodegas Olivares',\n",
       " 'Bodegas Ontalba',\n",
       " 'Bodegas Pío del Ramo',\n",
       " 'Bodegas Ribera del Juá',\n",
       " 'Bodegas Salzillo',\n",
       " 'Bodegas San Dionisio',\n",
       " 'Bodegas Santiago Apóstol',\n",
       " 'Bodegas Silvano García',\n",
       " 'Bodegas Torrecastillo',\n",
       " 'Bodegas Venta de las Cuevas',\n",
       " 'Bodegas Viña Elena',\n",
       " 'Bodegas Xenysel',\n",
       " 'Coop. Ntra. Sra. Encarnación',\n",
       " 'DOBLEDEPEREZ Microbodega',\n",
       " 'Ego Bodegas',\n",
       " 'Esencia Wines Cellars',\n",
       " 'Finca El Olmillo',\n",
       " 'Finca Monastasia',\n",
       " 'J. García Carrión',\n",
       " 'Parajes del Valle Bodegas y Viñedos',\n",
       " 'Ramón Izquierdo Viñedos y Bodegas',\n",
       " 'Bodega Antonio García Molina',\n",
       " 'Bodega Cerrón',\n",
       " 'Bodega El Lagar de las Puntillas',\n",
       " 'Bodega Madrid Romero',\n",
       " 'Bodega Sierra Norte',\n",
       " 'Bodegas 1890',\n",
       " 'Bodegas Alceño',\n",
       " 'Bodegas Arloren',\n",
       " 'Bodegas Asensio Carcelén',\n",
       " 'Bodegas Bleda',\n",
       " 'Bodegas BSI',\n",
       " 'Bodegas Carchelo',\n",
       " 'Bodegas Casa Castillo',\n",
       " 'Bodegas Delampa',\n",
       " 'Bodegas El Nido',\n",
       " 'Bodegas Juan Gil',\n",
       " 'Bodegas Lo Nuevo',\n",
       " 'Bodegas Luzón',\n",
       " 'Bodegas Nido del Cuco',\n",
       " 'Bodegas Olivares',\n",
       " 'Bodegas Ontalba',\n",
       " 'Bodegas Pío del Ramo',\n",
       " 'Bodegas Ribera del Juá',\n",
       " 'Bodegas Salzillo',\n",
       " 'Bodegas San Dionisio',\n",
       " 'Bodegas Santiago Apóstol',\n",
       " 'Bodegas Silvano García',\n",
       " 'Bodegas Torrecastillo',\n",
       " 'Bodegas Venta de las Cuevas',\n",
       " 'Bodegas Viña Elena',\n",
       " 'Bodegas Xenysel',\n",
       " 'Coop. Ntra. Sra. Encarnación',\n",
       " 'DOBLEDEPEREZ Microbodega',\n",
       " 'Ego Bodegas',\n",
       " 'Esencia Wines Cellars',\n",
       " 'Finca El Olmillo',\n",
       " 'Finca Monastasia',\n",
       " 'J. García Carrión',\n",
       " 'Parajes del Valle Bodegas y Viñedos',\n",
       " 'Ramón Izquierdo Viñedos y Bodegas']"
      ]
     },
     "execution_count": 6,
     "metadata": {},
     "output_type": "execute_result"
    }
   ],
   "source": [
    "jumilla_wineries = []\n",
    "for a in soup.find_all(\"a\", attrs={\"class\":\"cl-element-title__anchor\"}):\n",
    "    jumilla_wineries.append(a.get_text())\n",
    "jumilla_wineries"
   ]
  },
  {
   "cell_type": "code",
   "execution_count": 15,
   "id": "3d19125e",
   "metadata": {},
   "outputs": [],
   "source": [
    "jumilla_wineries = ['Bodega Antonio García Molina',\n",
    " 'Bodega Cerrón',\n",
    " 'Bodega El Lagar de las Puntillas',\n",
    " 'Bodega Madrid Romero',\n",
    " 'Bodega Sierra Norte',\n",
    " 'Bodegas 1890',\n",
    " 'Bodegas Alceño',\n",
    " 'Bodegas Arloren',\n",
    " 'Bodegas Asensio Carcelén',\n",
    " 'Bodegas Bleda',\n",
    " 'Bodegas BSI',\n",
    " 'Bodegas Carchelo',\n",
    " 'Bodegas Casa Castillo',\n",
    " 'Bodegas Delampa',\n",
    " 'Bodegas El Nido',\n",
    " 'Bodegas Juan Gil',\n",
    " 'Bodegas Lo Nuevo',\n",
    " 'Bodegas Luzón',\n",
    " 'Bodegas Nido del Cuco',\n",
    " 'Bodegas Olivares',\n",
    " 'Bodegas Ontalba',\n",
    " 'Bodegas Pío del Ramo',\n",
    " 'Bodegas Ribera del Juá',\n",
    " 'Bodegas Salzillo',\n",
    " 'Bodegas San Dionisio',\n",
    " 'Bodegas Santiago Apóstol',\n",
    " 'Bodegas Silvano García',\n",
    " 'Bodegas Torrecastillo',\n",
    " 'Bodegas Venta de las Cuevas',\n",
    " 'Bodegas Viña Elena',\n",
    " 'Bodegas Xenysel',\n",
    " 'Coop. Ntra. Sra. Encarnación',\n",
    " 'DOBLEDEPEREZ Microbodega',\n",
    " 'Ego Bodegas',\n",
    " 'Esencia Wines Cellars',\n",
    " 'Finca El Olmillo',\n",
    " 'Finca Monastasia',\n",
    " 'J. García Carrión',\n",
    " 'Parajes del Valle Bodegas y Viñedos',\n",
    " 'Ramón Izquierdo Viñedos y Bodegas']"
   ]
  },
  {
   "cell_type": "code",
   "execution_count": 40,
   "id": "8b061c99",
   "metadata": {},
   "outputs": [
    {
     "data": {
      "text/plain": [
       "['Bodega El Lagar de las Puntillas',\n",
       " 'Bodega Madrid Romero',\n",
       " 'Bodega Sierra Norte',\n",
       " 'Bodegas 1890',\n",
       " 'Bodegas Alceño',\n",
       " 'Bodegas Arloren',\n",
       " 'Bodegas Asensio Carcelén',\n",
       " 'Bodegas Bleda',\n",
       " 'Bodegas BSI',\n",
       " 'Bodegas Carchelo',\n",
       " 'Bodegas Casa Castillo',\n",
       " 'Bodegas Delampa',\n",
       " 'Bodegas El Nido',\n",
       " 'Bodegas Juan Gil',\n",
       " 'Bodegas Lo Nuevo',\n",
       " 'Bodegas Luzón',\n",
       " 'Bodegas Nido del Cuco',\n",
       " 'Bodegas Olivares',\n",
       " 'Bodegas Ribera del Juá',\n",
       " 'Bodegas Salzillo',\n",
       " 'Bodegas Silvano García',\n",
       " 'Bodegas Viña Elena',\n",
       " 'Bodegas Xenysel',\n",
       " 'Ego Bodegas',\n",
       " 'Esencia Wines Cellars',\n",
       " 'J. García Carrión',\n",
       " 'Parajes del Valle Bodegas y Viñedos',\n",
       " 'Bodega El Lagar de las Puntillas',\n",
       " 'Bodega Madrid Romero',\n",
       " 'Bodega Sierra Norte',\n",
       " 'Bodegas 1890',\n",
       " 'Bodegas Alceño',\n",
       " 'Bodegas Arloren',\n",
       " 'Bodegas Asensio Carcelén',\n",
       " 'Bodegas Bleda',\n",
       " 'Bodegas BSI',\n",
       " 'Bodegas Carchelo',\n",
       " 'Bodegas Casa Castillo',\n",
       " 'Bodegas Delampa',\n",
       " 'Bodegas El Nido',\n",
       " 'Bodegas Juan Gil',\n",
       " 'Bodegas Lo Nuevo',\n",
       " 'Bodegas Luzón',\n",
       " 'Bodegas Nido del Cuco',\n",
       " 'Bodegas Olivares',\n",
       " 'Bodegas Ribera del Juá',\n",
       " 'Bodegas Salzillo',\n",
       " 'Bodegas Silvano García',\n",
       " 'Bodegas Viña Elena',\n",
       " 'Bodegas Xenysel',\n",
       " 'Ego Bodegas',\n",
       " 'Esencia Wines Cellars',\n",
       " 'J. García Carrión',\n",
       " 'Parajes del Valle Bodegas y Viñedos']"
      ]
     },
     "execution_count": 40,
     "metadata": {},
     "output_type": "execute_result"
    }
   ],
   "source": [
    "jumilla_murcia = []\n",
    "\n",
    "request = requests.get(\"https://jumilla.wine/nuestras-bodegas/?_sft_municipios_tax=jumilla-region-de-murcia\")\n",
    "soup = BeautifulSoup(request.content, 'html.parser')\n",
    "\n",
    "for a in soup.find_all(\"a\", attrs={\"class\":\"cl-element-title__anchor\"}):\n",
    "    jumilla_murcia.append(a.get_text())\n",
    "jumilla_murcia"
   ]
  },
  {
   "cell_type": "code",
   "execution_count": 42,
   "id": "0d22e7b1",
   "metadata": {},
   "outputs": [],
   "source": [
    "jumilla_murcia = ['Bodega El Lagar de las Puntillas',\n",
    " 'Bodega Madrid Romero',\n",
    " 'Bodega Sierra Norte',\n",
    " 'Bodegas 1890',\n",
    " 'Bodegas Alceño',\n",
    " 'Bodegas Arloren',\n",
    " 'Bodegas Asensio Carcelén',\n",
    " 'Bodegas Bleda',\n",
    " 'Bodegas BSI',\n",
    " 'Bodegas Carchelo',\n",
    " 'Bodegas Casa Castillo',\n",
    " 'Bodegas Delampa',\n",
    " 'Bodegas El Nido',\n",
    " 'Bodegas Juan Gil',\n",
    " 'Bodegas Lo Nuevo',\n",
    " 'Bodegas Luzón',\n",
    " 'Bodegas Nido del Cuco',\n",
    " 'Bodegas Olivares',\n",
    " 'Bodegas Ribera del Juá',\n",
    " 'Bodegas Salzillo',\n",
    " 'Bodegas Silvano García',\n",
    " 'Bodegas Viña Elena',\n",
    " 'Bodegas Xenysel',\n",
    " 'Ego Bodegas',\n",
    " 'Esencia Wines Cellars',\n",
    " 'J. García Carrión',\n",
    " 'Parajes del Valle Bodegas y Viñedos']"
   ]
  },
  {
   "cell_type": "code",
   "execution_count": 43,
   "id": "cd0c6c24",
   "metadata": {},
   "outputs": [
    {
     "data": {
      "text/plain": [
       "['Bodega Antonio García Molina',\n",
       " 'Bodega Cerrón',\n",
       " 'Bodegas Ontalba',\n",
       " 'Bodegas Pío del Ramo',\n",
       " 'Bodegas San Dionisio',\n",
       " 'Bodegas Santiago Apóstol',\n",
       " 'Bodegas Torrecastillo',\n",
       " 'Bodegas Venta de las Cuevas',\n",
       " 'Coop. Ntra. Sra. Encarnación',\n",
       " 'DOBLEDEPEREZ Microbodega',\n",
       " 'Finca El Olmillo',\n",
       " 'Finca Monastasia',\n",
       " 'Ramón Izquierdo Viñedos y Bodegas']"
      ]
     },
     "execution_count": 43,
     "metadata": {},
     "output_type": "execute_result"
    }
   ],
   "source": [
    "jumilla_albacete = [x for x in jumilla_wineries if x not in jumilla_murcia]\n",
    "jumilla_albacete"
   ]
  },
  {
   "cell_type": "code",
   "execution_count": 44,
   "id": "a5137e51",
   "metadata": {},
   "outputs": [
    {
     "data": {
      "text/plain": [
       "(40, 27, 13)"
      ]
     },
     "execution_count": 44,
     "metadata": {},
     "output_type": "execute_result"
    }
   ],
   "source": [
    "len(jumilla_wineries), len(c), len(jumilla_albacete)"
   ]
  },
  {
   "cell_type": "code",
   "execution_count": 47,
   "id": "1faccdb6",
   "metadata": {},
   "outputs": [],
   "source": [
    "murcia = pd.DataFrame({\"jumilla_murcia\": jumilla_murcia}) \n",
    "albacete = pd.DataFrame({\"jumilla_albacete\": jumilla_albacete})\n",
    "df = pd.concat([df, murcia, albacete], axis=1) "
   ]
  },
  {
   "cell_type": "code",
   "execution_count": 50,
   "id": "2fe52f24",
   "metadata": {},
   "outputs": [
    {
     "data": {
      "text/html": [
       "<div>\n",
       "<style scoped>\n",
       "    .dataframe tbody tr th:only-of-type {\n",
       "        vertical-align: middle;\n",
       "    }\n",
       "\n",
       "    .dataframe tbody tr th {\n",
       "        vertical-align: top;\n",
       "    }\n",
       "\n",
       "    .dataframe thead th {\n",
       "        text-align: right;\n",
       "    }\n",
       "</style>\n",
       "<table border=\"1\" class=\"dataframe\">\n",
       "  <thead>\n",
       "    <tr style=\"text-align: right;\">\n",
       "      <th></th>\n",
       "      <th>rioja_alavesa</th>\n",
       "      <th>cava_cataluña</th>\n",
       "      <th>cava_extremadura</th>\n",
       "      <th>cava_valencia</th>\n",
       "      <th>jumilla_murcia</th>\n",
       "      <th>jumilla_albacete</th>\n",
       "    </tr>\n",
       "  </thead>\n",
       "  <tbody>\n",
       "    <tr>\n",
       "      <th>0</th>\n",
       "      <td>Amador García</td>\n",
       "      <td>ADERNATS - Vinícola de Nulles</td>\n",
       "      <td>Bodegas Dehesa de Arriba (Grupo Martínez Paiva)</td>\n",
       "      <td>BODEGAS HISPANOSUIZAS S.L.</td>\n",
       "      <td>Bodega El Lagar de las Puntillas</td>\n",
       "      <td>Bodega Antonio García Molina</td>\n",
       "    </tr>\n",
       "    <tr>\n",
       "      <th>1</th>\n",
       "      <td>Dominio de Berzal</td>\n",
       "      <td>AGRÍCOLA I SECCIÓ DE CRÈDIT DE LLORENÇ DEL PEN...</td>\n",
       "      <td>BODEGAS MARCELINO DIAZ S.A.</td>\n",
       "      <td>Chozas Carrascal</td>\n",
       "      <td>Bodega Madrid Romero</td>\n",
       "      <td>Bodega Cerrón</td>\n",
       "    </tr>\n",
       "    <tr>\n",
       "      <th>2</th>\n",
       "      <td>Luberri Monje Amestoy</td>\n",
       "      <td>AGUSTÍ TORELLÓ MATA</td>\n",
       "      <td>Bodegas Romale</td>\n",
       "      <td>DOMINIO DE LA VEGA</td>\n",
       "      <td>Bodega Sierra Norte</td>\n",
       "      <td>Bodegas Ontalba</td>\n",
       "    </tr>\n",
       "    <tr>\n",
       "      <th>3</th>\n",
       "      <td>Murua</td>\n",
       "      <td>ALTA ALELLA</td>\n",
       "      <td>López Morenas S.L.</td>\n",
       "      <td>MONTESANCO</td>\n",
       "      <td>Bodegas 1890</td>\n",
       "      <td>Bodegas Pío del Ramo</td>\n",
       "    </tr>\n",
       "    <tr>\n",
       "      <th>4</th>\n",
       "      <td>Pago de Larrea</td>\n",
       "      <td>ARTCAVA</td>\n",
       "      <td>VIA DE LA PLATA, S. L.</td>\n",
       "      <td>PAGO DE THARSYS</td>\n",
       "      <td>Bodegas Alceño</td>\n",
       "      <td>Bodegas San Dionisio</td>\n",
       "    </tr>\n",
       "  </tbody>\n",
       "</table>\n",
       "</div>"
      ],
      "text/plain": [
       "           rioja_alavesa                                      cava_cataluña  \\\n",
       "0          Amador García                      ADERNATS - Vinícola de Nulles   \n",
       "1      Dominio de Berzal  AGRÍCOLA I SECCIÓ DE CRÈDIT DE LLORENÇ DEL PEN...   \n",
       "2  Luberri Monje Amestoy                                AGUSTÍ TORELLÓ MATA   \n",
       "3                  Murua                                        ALTA ALELLA   \n",
       "4         Pago de Larrea                                            ARTCAVA   \n",
       "\n",
       "                                  cava_extremadura  \\\n",
       "0  Bodegas Dehesa de Arriba (Grupo Martínez Paiva)   \n",
       "1                      BODEGAS MARCELINO DIAZ S.A.   \n",
       "2                                   Bodegas Romale   \n",
       "3                               López Morenas S.L.   \n",
       "4                           VIA DE LA PLATA, S. L.   \n",
       "\n",
       "                cava_valencia                    jumilla_murcia  \\\n",
       "0  BODEGAS HISPANOSUIZAS S.L.  Bodega El Lagar de las Puntillas   \n",
       "1            Chozas Carrascal              Bodega Madrid Romero   \n",
       "2          DOMINIO DE LA VEGA               Bodega Sierra Norte   \n",
       "3                  MONTESANCO                      Bodegas 1890   \n",
       "4             PAGO DE THARSYS                    Bodegas Alceño   \n",
       "\n",
       "               jumilla_albacete  \n",
       "0  Bodega Antonio García Molina  \n",
       "1                 Bodega Cerrón  \n",
       "2               Bodegas Ontalba  \n",
       "3          Bodegas Pío del Ramo  \n",
       "4          Bodegas San Dionisio  "
      ]
     },
     "execution_count": 50,
     "metadata": {},
     "output_type": "execute_result"
    }
   ],
   "source": [
    "df.head()"
   ]
  },
  {
   "cell_type": "code",
   "execution_count": 51,
   "id": "44aaf571",
   "metadata": {},
   "outputs": [],
   "source": [
    "df.to_csv(\"supraautonomical_gis.csv\", index=False)"
   ]
  },
  {
   "cell_type": "code",
   "execution_count": null,
   "id": "eac9fc65",
   "metadata": {},
   "outputs": [],
   "source": []
  }
 ],
 "metadata": {
  "kernelspec": {
   "display_name": "Python 3 (ipykernel)",
   "language": "python",
   "name": "python3"
  },
  "language_info": {
   "codemirror_mode": {
    "name": "ipython",
    "version": 3
   },
   "file_extension": ".py",
   "mimetype": "text/x-python",
   "name": "python",
   "nbconvert_exporter": "python",
   "pygments_lexer": "ipython3",
   "version": "3.11.3"
  }
 },
 "nbformat": 4,
 "nbformat_minor": 5
}
